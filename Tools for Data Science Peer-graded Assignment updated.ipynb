{
 "cells": [
  {
   "cell_type": "markdown",
   "id": "faf745f0",
   "metadata": {},
   "source": [
    "<H1>My Jupyter Notebook on IBM Watson Studio<H1>"
   ]
  },
  {
   "cell_type": "markdown",
   "id": "e3a92563",
   "metadata": {},
   "source": [
    "<b>Emilio Menendez </b><br>Data Scientist "
   ]
  },
  {
   "cell_type": "markdown",
   "id": "d00ce2ec",
   "metadata": {},
   "source": [
    "<i>I am interested in data science I want to become a data scientist in the manufacturing industry in the areas of planning or quality control <i>"
   ]
  },
  {
   "cell_type": "markdown",
   "id": "ecea0c6a",
   "metadata": {},
   "source": [
    "<h3>The Following Code will Display today's time and date</h3> "
   ]
  },
  {
   "cell_type": "code",
   "execution_count": 3,
   "id": "13732add",
   "metadata": {},
   "outputs": [
    {
     "name": "stdout",
     "output_type": "stream",
     "text": [
      "Today's Date and Time is  2023-01-14 16:50:47.026501\n"
     ]
    }
   ],
   "source": [
    "import datetime \n",
    "message = \"Today's Date and Time is \" \n",
    "print (message , datetime.datetime.now() )"
   ]
  },
  {
   "cell_type": "markdown",
   "id": "dc50832a-8d2c-4e3a-bbe6-aaf7b1ad9ac5",
   "metadata": {},
   "source": [
    "<html>\n",
    "<header>\n",
    "</header>\n",
    "\n",
    "<body>\n",
    "    <section>\n",
    "        <h1> My favorite sports</h1>\n",
    "        <ol>\n",
    "            <li>Soccer</li>\n",
    "            <li>Basketball</li>\n",
    "            <li>Running</li>\n",
    "            <li>cycling</li>\n",
    "            <li>Baseball</li>\n",
    "        </ol>\n",
    "        <hr>\n",
    "        <table border=\"1px\">\n",
    "            <tr>\n",
    "                <td><b>Needs</b></td>\n",
    "                <td><b>Wants</b></td>\n",
    "            </tr>\n",
    "            <tr>\n",
    "                <td>Water</td>\n",
    "                <td>Car</td>\n",
    "            </tr>\n",
    "            <tr>\n",
    "                <td>Food</td>\n",
    "                <td>Phone</td>\n",
    "            </tr>\n",
    "            <tr>\n",
    "                <td>study</td>\n",
    "                <td>Computer</td>\n",
    "            </tr>\n",
    "            <tr>\n",
    "                <td>Internet</td>\n",
    "                <td>House</td>\n",
    "            </tr>\n",
    "        </table>\n",
    "        <br>\n",
    "        <hr>\n",
    "    </section>\n",
    "    <footer>\n",
    "        <a href=\"https://www.google.com.com/\">https://www.google.com/</a>\n",
    "    </footer>\n",
    "</body>\n",
    "</html>"
   ]
  },
  {
   "cell_type": "markdown",
   "id": "ad581afd",
   "metadata": {},
   "source": []
  },
  {
   "cell_type": "code",
   "execution_count": null,
   "id": "c01b902a",
   "metadata": {},
   "outputs": [],
   "source": []
  }
 ],
 "metadata": {
  "kernelspec": {
   "display_name": "Python",
   "language": "python",
   "name": "conda-env-python-py"
  },
  "language_info": {
   "codemirror_mode": {
    "name": "ipython",
    "version": 3
   },
   "file_extension": ".py",
   "mimetype": "text/x-python",
   "name": "python",
   "nbconvert_exporter": "python",
   "pygments_lexer": "ipython3",
   "version": "3.7.12"
  }
 },
 "nbformat": 4,
 "nbformat_minor": 5
}
